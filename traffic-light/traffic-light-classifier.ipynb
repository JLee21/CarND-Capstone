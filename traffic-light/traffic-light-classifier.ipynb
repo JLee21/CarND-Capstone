{
 "cells": [
  {
   "cell_type": "markdown",
   "metadata": {},
   "source": [
    "suggestion for using TF Object Detection\n",
    "https://medium.com/@anthony_sarkis/self-driving-cars-implementing-real-time-traffic-light-detection-and-classification-in-2017-7d9ae8df1c58\n",
    "\n",
    "Google's Approach to traffic light\n",
    "https://static.googleusercontent.com/media/research.google.com/en//pubs/archive/37259.pdf\n",
    "\n",
    "SqueezeNet trained on ImageNet\n",
    "https://medium.freecodecamp.org/recognizing-traffic-lights-with-deep-learning-23dae23287cc\n",
    "\n",
    "Convert Caffe Models to TF\n",
    "https://github.com/ethereon/caffe-tensorflow\n",
    "\n",
    "Transfer Learning using Keras (blog)\n",
    "https://towardsdatascience.com/transfer-learning-using-keras-d804b2e04ef8\n",
    "\n"
   ]
  },
  {
   "cell_type": "markdown",
   "metadata": {},
   "source": [
    "### Imports"
   ]
  },
  {
   "cell_type": "code",
   "execution_count": 127,
   "metadata": {
    "collapsed": true
   },
   "outputs": [],
   "source": [
    "# So we can see the output of multiple variables in a single cell\n",
    "from IPython.core.interactiveshell import InteractiveShell\n",
    "InteractiveShell.ast_node_interactivity = \"all\"\n",
    "\n",
    "import numpy as np\n",
    "import matplotlib.pyplot as plt\n",
    "plt.style.use('fivethirtyeight')\n",
    "%matplotlib inline\n",
    "from tqdm import tqdm\n",
    "\n",
    "import keras\n",
    "from keras.preprocessing.image import ImageDataGenerator\n",
    "from keras.models import Sequential\n",
    "from keras.layers import Dense, Dropout, Flatten\n",
    "from keras.layers import Conv2D, MaxPooling2D\n",
    "\n",
    "from sklearn.utils import shuffle"
   ]
  },
  {
   "cell_type": "markdown",
   "metadata": {},
   "source": [
    "# Download Datasets\n",
    " \n",
    "Change the download_dir in config.py\n",
    "\n",
    "---\n",
    "## Los Altos\n",
    "Contains a png images of real driving in Los Altos and the classification of and bounding box of traffic lights\n",
    "\n",
    "##### data\n",
    "./data/los-altos/train/\\*\\*/\\*.png\n",
    "##### labels\n",
    "./data/los-altos/train.yaml\n",
    "Labels are in yaml format\n",
    "```yaml\n",
    "  path: ./rgb/train/2015-10-05-16-02-30_bag/703062.png\n",
    "- boxes:\n",
    "  - {label: RedLeft, occluded: false, x_max: 536.2627074943, x_min: 527.9504961004,\n",
    "    y_max: 259.4134134066, y_min: 239.7337501584}\n",
    "  - {label: Red, occluded: false, x_max: 606.5768706269, x_min: 599.1649383548, y_max: 258.8548785478,\n",
    "    y_min: 239.7216236998}\n",
    "  - {label: Red, occluded: false, x_max: 663.2255031115, x_min: 655.7908822815, y_max: 258.9849821711,\n",
    "    y_min: 240.196122899}\n",
    "  - {label: Red, occluded: false, x_max: 832.5396369015, x_min: 820.5931243983, y_max: 277.8766194893,\n",
    "    y_min: 245.8794585057}\n",
    "  path: ./rgb/train/2015-10-05-16-02-30_bag/703270.png\n",
    "```\n",
    "---\n",
    "## Just Traffic Lights\n",
    "Only contains cropped images of Traffic Lights (png)\n",
    "##### data\n",
    "./data/just-traffic-lights / [ real | simulated ] / [ Green|NoTraficLight|Red|Yellow ] /\\*.png"
   ]
  },
  {
   "cell_type": "code",
   "execution_count": 2,
   "metadata": {},
   "outputs": [
    {
     "name": "stdout",
     "output_type": "stream",
     "text": [
      "Data has apparently already been downloaded and unpacked.\n",
      "Data has apparently already been downloaded and unpacked.\n"
     ]
    }
   ],
   "source": [
    "import config\n",
    "import download\n",
    "\n",
    "for dataset in config.datasets:\n",
    "    download.maybe_download_and_extract(dataset, config.download_dir)"
   ]
  },
  {
   "cell_type": "code",
   "execution_count": 3,
   "metadata": {},
   "outputs": [
    {
     "data": {
      "text/plain": [
       "['.DS_Store',\n",
       " 'los-altos',\n",
       " 'dataset_additional_rgb.zip',\n",
       " 'dataset_train_rgb_bosch.zip',\n",
       " 'just-traffic-lights',\n",
       " 'los-altos.zip',\n",
       " 'tmp',\n",
       " 'tl_classifier_data.zip']"
      ]
     },
     "execution_count": 3,
     "metadata": {},
     "output_type": "execute_result"
    }
   ],
   "source": [
    "# explore data\n",
    "import os\n",
    "from glob import glob\n",
    "os.listdir('./data')"
   ]
  },
  {
   "cell_type": "code",
   "execution_count": 4,
   "metadata": {},
   "outputs": [],
   "source": [
    "image_paths = []\n",
    "for root, dirs, files in os.walk('./data/just-traffic-lights'):\n",
    "    for file in files:\n",
    "        image_paths.append(os.path.join(root,file))"
   ]
  },
  {
   "cell_type": "code",
   "execution_count": 5,
   "metadata": {
    "collapsed": true
   },
   "outputs": [],
   "source": [
    "from collections import namedtuple\n",
    "\n",
    "Image_Size = namedtuple('Image_Size', 'x y ch')\n",
    "image_size = Image_Size(x=50, y=50, ch=3)\n",
    "num_classes = 4"
   ]
  },
  {
   "cell_type": "code",
   "execution_count": 151,
   "metadata": {},
   "outputs": [
    {
     "data": {
      "text/plain": [
       "972"
      ]
     },
     "execution_count": 151,
     "metadata": {},
     "output_type": "execute_result"
    },
    {
     "data": {
      "text/plain": [
       "100"
      ]
     },
     "execution_count": 151,
     "metadata": {},
     "output_type": "execute_result"
    },
    {
     "data": {
      "text/plain": [
       "334"
      ]
     },
     "execution_count": 151,
     "metadata": {},
     "output_type": "execute_result"
    },
    {
     "data": {
      "text/plain": [
       "64"
      ]
     },
     "execution_count": 151,
     "metadata": {},
     "output_type": "execute_result"
    },
    {
     "data": {
      "text/plain": [
       "551"
      ]
     },
     "execution_count": 151,
     "metadata": {},
     "output_type": "execute_result"
    },
    {
     "data": {
      "text/plain": [
       "23"
      ]
     },
     "execution_count": 151,
     "metadata": {},
     "output_type": "execute_result"
    }
   ],
   "source": [
    "# create validation train and test set\n",
    "image_paths = shuffle(image_paths)\n",
    "\n",
    "train_image_paths = image_paths[:-100]\n",
    "test_image_paths = image_paths[-100:]\n",
    "len(train_image_paths)\n",
    "len(test_image_paths)\n",
    "x = [i.split('/')[-2] for i in train_image_paths]\n",
    "len([i for i in x if i == \"Green\"])\n",
    "len([i for i in x if i == \"Yellow\"])\n",
    "len([i for i in x if i == \"Red\"])\n",
    "len([i for i in x if i == \"NoTrafficLight\"])"
   ]
  },
  {
   "cell_type": "code",
   "execution_count": 158,
   "metadata": {},
   "outputs": [
    {
     "name": "stdout",
     "output_type": "stream",
     "text": [
      "./data/just-traffic-lights/real/NoTrafficLight/001053.png\n"
     ]
    },
    {
     "data": {
      "text/plain": [
       "array([[ 0.,  0.,  0.,  1.],\n",
       "       [ 1.,  0.,  0.,  0.],\n",
       "       [ 0.,  1.,  0.,  0.],\n",
       "       [ 0.,  0.,  0.,  1.],\n",
       "       [ 0.,  0.,  0.,  1.]])"
      ]
     },
     "execution_count": 158,
     "metadata": {},
     "output_type": "execute_result"
    }
   ],
   "source": [
    "def create_indices(image_paths):\n",
    "    \"\"\"\n",
    "    0 = none\n",
    "    1 = green\n",
    "    2 = yellow\n",
    "    3 = red\n",
    "    \n",
    "    :return :\n",
    "    {'./data/just-traffic-lights/real/Green/001094.png': 1}\n",
    "    \"\"\"\n",
    "\n",
    "    ind_dict = {}\n",
    "    for img in image_paths:\n",
    "        if \"NoTrafficLight\" in img: \n",
    "            ind_dict[img] = 0\n",
    "        if \"Green\" in img: \n",
    "            ind_dict[img] = 1\n",
    "        if \"Yellow\" in img: \n",
    "            ind_dict[img] = 2\n",
    "        if \"Red\" in img: \n",
    "            ind_dict[img] = 3\n",
    "        if not ind_dict[img]:\n",
    "            print(img)\n",
    "            \n",
    "    return ind_dict\n",
    "\n",
    "def get_one_hot(image_paths, ver='keras'):\n",
    "    \n",
    "    ind = create_indices(image_paths)\n",
    "    ind = [ind for key,ind in ind.items()]\n",
    "    \n",
    "    # tf version\n",
    "    if ver=='tf':\n",
    "        one_hot = tf.one_hot(ind, num_classes)\n",
    "    \n",
    "    # keras version\n",
    "    if ver==\"keras\":\n",
    "        one_hot = keras.utils.to_categorical(ind, num_classes=num_classes)\n",
    "    \n",
    "    return one_hot\n",
    "\n",
    "get_one_hot(image_paths[:5])"
   ]
  },
  {
   "cell_type": "code",
   "execution_count": 155,
   "metadata": {},
   "outputs": [],
   "source": [
    "import tensorflow as tf\n",
    "from scipy.ndimage import imread\n",
    "from skimage.transform import resize"
   ]
  },
  {
   "cell_type": "code",
   "execution_count": 175,
   "metadata": {},
   "outputs": [
    {
     "data": {
      "text/plain": [
       "array([[[ 1.,  1.],\n",
       "        [ 1.,  1.],\n",
       "        [ 1.,  1.]],\n",
       "\n",
       "       [[ 1.,  1.],\n",
       "        [ 1.,  1.],\n",
       "        [ 1.,  1.]],\n",
       "\n",
       "       [[ 1.,  1.],\n",
       "        [ 1.,  1.],\n",
       "        [ 1.,  1.]],\n",
       "\n",
       "       [[ 1.,  1.],\n",
       "        [ 1.,  1.],\n",
       "        [ 1.,  1.]]])"
      ]
     },
     "execution_count": 175,
     "metadata": {},
     "output_type": "execute_result"
    },
    {
     "data": {
      "text/plain": [
       "(4, 3, 2)"
      ]
     },
     "execution_count": 175,
     "metadata": {},
     "output_type": "execute_result"
    },
    {
     "name": "stdout",
     "output_type": "stream",
     "text": [
      "(4, 6, 5)\n",
      "[[[ 0.  0.  0.  0.  0.]\n",
      "  [ 0.  0.  1.  1.  0.]\n",
      "  [ 0.  0.  1.  1.  0.]\n",
      "  [ 0.  0.  1.  1.  0.]\n",
      "  [ 0.  0.  0.  0.  0.]\n",
      "  [ 0.  0.  0.  0.  0.]]\n",
      "\n",
      " [[ 0.  0.  0.  0.  0.]\n",
      "  [ 0.  0.  1.  1.  0.]\n",
      "  [ 0.  0.  1.  1.  0.]\n",
      "  [ 0.  0.  1.  1.  0.]\n",
      "  [ 0.  0.  0.  0.  0.]\n",
      "  [ 0.  0.  0.  0.  0.]]\n",
      "\n",
      " [[ 0.  0.  0.  0.  0.]\n",
      "  [ 0.  0.  1.  1.  0.]\n",
      "  [ 0.  0.  1.  1.  0.]\n",
      "  [ 0.  0.  1.  1.  0.]\n",
      "  [ 0.  0.  0.  0.  0.]\n",
      "  [ 0.  0.  0.  0.  0.]]\n",
      "\n",
      " [[ 0.  0.  0.  0.  0.]\n",
      "  [ 0.  0.  1.  1.  0.]\n",
      "  [ 0.  0.  1.  1.  0.]\n",
      "  [ 0.  0.  1.  1.  0.]\n",
      "  [ 0.  0.  0.  0.  0.]\n",
      "  [ 0.  0.  0.  0.  0.]]]\n"
     ]
    }
   ],
   "source": [
    "a = np.ones((4, 3, 2))\n",
    "a\n",
    "a.shape\n",
    "\n",
    "# npad is a tuple of (n_before, n_after) for each dimension\n",
    "npad = ((0, 0), (1, 2), (2, 1))\n",
    "b = np.pad(a, pad_width=npad, mode='constant', constant_values=0)\n",
    "\n",
    "print(b.shape)\n",
    "# (4, 6, 5)\n",
    "\n",
    "print(b)"
   ]
  },
  {
   "cell_type": "code",
   "execution_count": 171,
   "metadata": {},
   "outputs": [
    {
     "name": "stderr",
     "output_type": "stream",
     "text": [
      "/Users/topher/anaconda/lib/python3.6/site-packages/skimage/transform/_warps.py:84: UserWarning: The default mode, 'constant', will be changed to 'reflect' in skimage 0.15.\n",
      "  warn(\"The default mode, 'constant', will be changed to 'reflect' in \"\n"
     ]
    },
    {
     "ename": "ValueError",
     "evalue": "cannot reshape array of size 7290000 into shape (972,150,150,3)",
     "output_type": "error",
     "traceback": [
      "\u001b[0;31m---------------------------------------------------------------------------\u001b[0m",
      "\u001b[0;31mValueError\u001b[0m                                Traceback (most recent call last)",
      "\u001b[0;32m<ipython-input-171-fc0fe60fe2a5>\u001b[0m in \u001b[0;36m<module>\u001b[0;34m()\u001b[0m\n\u001b[1;32m     30\u001b[0m \u001b[0mtrain_generator\u001b[0m \u001b[0;34m=\u001b[0m \u001b[0mgenerator\u001b[0m\u001b[0;34m(\u001b[0m\u001b[0mimage_paths\u001b[0m\u001b[0;34m,\u001b[0m \u001b[0;36m972\u001b[0m\u001b[0;34m,\u001b[0m \u001b[0mverbose\u001b[0m\u001b[0;34m=\u001b[0m\u001b[0;32mFalse\u001b[0m\u001b[0;34m)\u001b[0m\u001b[0;34m\u001b[0m\u001b[0m\n\u001b[1;32m     31\u001b[0m \u001b[0;34m\u001b[0m\u001b[0m\n\u001b[0;32m---> 32\u001b[0;31m \u001b[0mx\u001b[0m\u001b[0;34m,\u001b[0m\u001b[0my\u001b[0m \u001b[0;34m=\u001b[0m \u001b[0mnext\u001b[0m\u001b[0;34m(\u001b[0m\u001b[0mtrain_generator\u001b[0m\u001b[0;34m)\u001b[0m\u001b[0;34m\u001b[0m\u001b[0m\n\u001b[0m\u001b[1;32m     33\u001b[0m \u001b[0mx\u001b[0m\u001b[0;34m.\u001b[0m\u001b[0mshape\u001b[0m\u001b[0;34m\u001b[0m\u001b[0m\n\u001b[1;32m     34\u001b[0m \u001b[0my\u001b[0m\u001b[0;34m.\u001b[0m\u001b[0mshape\u001b[0m\u001b[0;34m\u001b[0m\u001b[0m\n",
      "\u001b[0;32m<ipython-input-171-fc0fe60fe2a5>\u001b[0m in \u001b[0;36mgenerator\u001b[0;34m(samples, batch_size, verbose)\u001b[0m\n\u001b[1;32m     19\u001b[0m         \u001b[0mx_batch\u001b[0m \u001b[0;34m=\u001b[0m \u001b[0mnp\u001b[0m\u001b[0;34m.\u001b[0m\u001b[0marray\u001b[0m\u001b[0;34m(\u001b[0m\u001b[0mx_batch\u001b[0m\u001b[0;34m)\u001b[0m\u001b[0;34m\u001b[0m\u001b[0m\n\u001b[1;32m     20\u001b[0m         \u001b[0;32mif\u001b[0m \u001b[0mverbose\u001b[0m\u001b[0;34m:\u001b[0m \u001b[0mprint\u001b[0m\u001b[0;34m(\u001b[0m\u001b[0;34m'++'\u001b[0m\u001b[0;34m,\u001b[0m \u001b[0mx_batch\u001b[0m\u001b[0;34m.\u001b[0m\u001b[0msize\u001b[0m\u001b[0;34m)\u001b[0m\u001b[0;34m\u001b[0m\u001b[0m\n\u001b[0;32m---> 21\u001b[0;31m         \u001b[0mx_batch\u001b[0m \u001b[0;34m=\u001b[0m \u001b[0mx_batch\u001b[0m\u001b[0;34m.\u001b[0m\u001b[0mreshape\u001b[0m\u001b[0;34m(\u001b[0m\u001b[0mbatch_size\u001b[0m\u001b[0;34m,\u001b[0m \u001b[0;36m150\u001b[0m\u001b[0;34m,\u001b[0m \u001b[0;36m150\u001b[0m\u001b[0;34m,\u001b[0m \u001b[0mimage_size\u001b[0m\u001b[0;34m.\u001b[0m\u001b[0mch\u001b[0m\u001b[0;34m)\u001b[0m\u001b[0;34m\u001b[0m\u001b[0m\n\u001b[0m\u001b[1;32m     22\u001b[0m \u001b[0;34m\u001b[0m\u001b[0m\n\u001b[1;32m     23\u001b[0m         \u001b[0;31m# get one-hot-encode labels based on path name\u001b[0m\u001b[0;34m\u001b[0m\u001b[0;34m\u001b[0m\u001b[0m\n",
      "\u001b[0;31mValueError\u001b[0m: cannot reshape array of size 7290000 into shape (972,150,150,3)"
     ]
    }
   ],
   "source": [
    "def generator(samples, batch_size=1, verbose=False):\n",
    "    shuffle(samples)\n",
    "    num_samples = len(samples)\n",
    "    \n",
    "    for offset in range(0, num_samples, batch_size):\n",
    "        \n",
    "        # get a batch of image_paths\n",
    "        x_batch_paths = samples[offset : offset+batch_size]\n",
    "        x_batch = []\n",
    "        for img_path in x_batch_paths:\n",
    "            img = imread(img_path)\n",
    "            new_shape = resize(img, (50, 50)) \n",
    "            x_batch.append(new_shape)\n",
    "            \n",
    "        # reshape images to 4D: (batch_size, row, col, chs)\n",
    "        x_batch = np.array(x_batch)\n",
    "        if verbose: print('++', x_batch.size)\n",
    "        x_batch = x_batch.reshape(batch_size, 150, 150, image_size.ch)\n",
    "        \n",
    "        # get one-hot-encode labels based on path name\n",
    "        y_batch = get_one_hot(x_batch_paths)\n",
    "\n",
    "        if not len(y_batch) == len(x_batch):\n",
    "            print('Wrong Match ', len(y_batch), len(x_batch))\n",
    "        yield (x_batch, y_batch)\n",
    "            \n",
    "train_generator = generator(image_paths, 972, verbose=False)\n",
    "\n",
    "x,y = next(train_generator)\n",
    "x.shape\n",
    "y.shape"
   ]
  },
  {
   "cell_type": "code",
   "execution_count": 161,
   "metadata": {
    "collapsed": true
   },
   "outputs": [],
   "source": [
    "train_datagen = ImageDataGenerator(\n",
    "    rescale = 1./255,\n",
    "    horizontal_flip = True,\n",
    "    fill_mode = \"nearest\",\n",
    "    shear_range = 0.5,\n",
    "    width_shift_range = 0.2,\n",
    "    height_shift_range = 0.2,\n",
    "    zoom_range = 0.2,\n",
    "    rotation_range=10)"
   ]
  },
  {
   "cell_type": "code",
   "execution_count": 162,
   "metadata": {
    "collapsed": true
   },
   "outputs": [],
   "source": [
    "valid_datagen = ImageDataGenerator(\n",
    "rescale = 1./255,\n",
    "horizontal_flip = False,\n",
    "fill_mode = \"nearest\",\n",
    "zoom_range = 0.0,\n",
    "width_shift_range = 0.0,\n",
    "height_shift_range=0.0,\n",
    "rotation_range=0)"
   ]
  },
  {
   "cell_type": "code",
   "execution_count": 163,
   "metadata": {},
   "outputs": [
    {
     "name": "stderr",
     "output_type": "stream",
     "text": [
      "/Users/topher/anaconda/lib/python3.6/site-packages/skimage/transform/_warps.py:84: UserWarning: The default mode, 'constant', will be changed to 'reflect' in skimage 0.15.\n",
      "  warn(\"The default mode, 'constant', will be changed to 'reflect' in \"\n"
     ]
    },
    {
     "name": "stdout",
     "output_type": "stream",
     "text": [
      "./data/just-traffic-lights/real/NoTrafficLight/001053.png\n",
      "./data/just-traffic-lights/simulator/NoTrafficLight/001111.png\n",
      "./data/just-traffic-lights/real/NoTrafficLight/001060.png\n",
      "./data/just-traffic-lights/real/NoTrafficLight/000066.png\n",
      "./data/just-traffic-lights/real/NoTrafficLight/001216.png\n",
      "./data/just-traffic-lights/real/NoTrafficLight/001223.png\n",
      "./data/just-traffic-lights/real/NoTrafficLight/000088.png\n",
      "./data/just-traffic-lights/simulator/NoTrafficLight/001108.png\n",
      "./data/just-traffic-lights/real/NoTrafficLight/001464.png\n",
      "./data/just-traffic-lights/real/NoTrafficLight/000083.png\n",
      "./data/just-traffic-lights/real/NoTrafficLight/001342.png\n",
      "./data/just-traffic-lights/real/NoTrafficLight/001327.png\n",
      "./data/just-traffic-lights/simulator/NoTrafficLight/001103.png\n",
      "./data/just-traffic-lights/real/NoTrafficLight/001466.png\n",
      "./data/just-traffic-lights/simulator/NoTrafficLight/001119.png\n",
      "./data/just-traffic-lights/real/NoTrafficLight/001070.png\n",
      "./data/just-traffic-lights/real/NoTrafficLight/001079.png\n",
      "./data/just-traffic-lights/simulator/NoTrafficLight/001115.png\n",
      "./data/just-traffic-lights/real/NoTrafficLight/001011.png\n",
      "./data/just-traffic-lights/real/NoTrafficLight/001237.png\n",
      "./data/just-traffic-lights/real/NoTrafficLight/000072.png\n",
      "./data/just-traffic-lights/real/NoTrafficLight/001056.png\n",
      "./data/just-traffic-lights/simulator/NoTrafficLight/001117.png\n",
      "./data/just-traffic-lights/real/NoTrafficLight/001319.png\n",
      "./data/just-traffic-lights/real/NoTrafficLight/000091.png\n"
     ]
    },
    {
     "data": {
      "text/plain": [
       "(972, 150, 150, 3)"
      ]
     },
     "execution_count": 163,
     "metadata": {},
     "output_type": "execute_result"
    }
   ],
   "source": [
    "x_train, y_train = next(generator(train_image_paths, batch_size=972))\n",
    "x_test, y_test = next(generator(test_image_paths, batch_size=100))\n",
    "\n",
    "train_gen = train_datagen.flow(x=x_train, y=y_train)\n",
    "test_gen = train_datagen.flow(x=x_test, y=y_test)\n",
    "\n",
    "x_train.shape"
   ]
  },
  {
   "cell_type": "code",
   "execution_count": 122,
   "metadata": {},
   "outputs": [
    {
     "name": "stdout",
     "output_type": "stream",
     "text": [
      "_________________________________________________________________\n",
      "Layer (type)                 Output Shape              Param #   \n",
      "=================================================================\n",
      "conv2d_17 (Conv2D)           (None, 148, 148, 32)      896       \n",
      "_________________________________________________________________\n",
      "conv2d_18 (Conv2D)           (None, 146, 146, 64)      18496     \n",
      "_________________________________________________________________\n",
      "max_pooling2d_9 (MaxPooling2 (None, 73, 73, 64)        0         \n",
      "_________________________________________________________________\n",
      "dropout_17 (Dropout)         (None, 73, 73, 64)        0         \n",
      "_________________________________________________________________\n",
      "flatten_9 (Flatten)          (None, 341056)            0         \n",
      "_________________________________________________________________\n",
      "dense_17 (Dense)             (None, 128)               43655296  \n",
      "_________________________________________________________________\n",
      "dropout_18 (Dropout)         (None, 128)               0         \n",
      "_________________________________________________________________\n",
      "dense_18 (Dense)             (None, 4)                 516       \n",
      "=================================================================\n",
      "Total params: 43,675,204\n",
      "Trainable params: 43,675,204\n",
      "Non-trainable params: 0\n",
      "_________________________________________________________________\n"
     ]
    }
   ],
   "source": [
    "model = Sequential()\n",
    "model.add(Resize())\n",
    "model.add(Conv2D(32, kernel_size=(3, 3),\n",
    "                 activation='relu',\n",
    "                 input_shape=(150, 150, 3)))\n",
    "model.add(Conv2D(64, (3, 3), activation='relu'))\n",
    "model.add(MaxPooling2D(pool_size=(2, 2)))\n",
    "model.add(Dropout(0.25))\n",
    "model.add(Flatten())\n",
    "model.add(Dense(128, activation='relu'))\n",
    "model.add(Dropout(0.5))\n",
    "model.add(Dense(num_classes, activation='softmax'))\n",
    "\n",
    "model.compile(loss=keras.losses.categorical_crossentropy,\n",
    "              optimizer=keras.optimizers.Adadelta(),\n",
    "              metrics=['accuracy'])\n",
    "model.summary()"
   ]
  },
  {
   "cell_type": "code",
   "execution_count": 174,
   "metadata": {
    "scrolled": false
   },
   "outputs": [
    {
     "name": "stdout",
     "output_type": "stream",
     "text": [
      "Epoch 1/10\n",
      "64/64 [==============================] - 163s 3s/step - loss: 0.3051 - acc: 0.8952 - val_loss: 0.2625 - val_acc: 0.9000\n",
      "Epoch 2/10\n",
      "64/64 [==============================] - 162s 3s/step - loss: 0.2555 - acc: 0.9136 - val_loss: 0.2176 - val_acc: 0.9100\n",
      "Epoch 3/10\n",
      "64/64 [==============================] - 163s 3s/step - loss: 0.2430 - acc: 0.9184 - val_loss: 0.2083 - val_acc: 0.9200\n",
      "Epoch 4/10\n",
      "64/64 [==============================] - 161s 3s/step - loss: 0.1967 - acc: 0.9318 - val_loss: 0.2119 - val_acc: 0.9200\n",
      "Epoch 5/10\n",
      "64/64 [==============================] - 170s 3s/step - loss: 0.1771 - acc: 0.9396 - val_loss: 0.2121 - val_acc: 0.9300\n",
      "Epoch 6/10\n",
      "64/64 [==============================] - 168s 3s/step - loss: 0.1768 - acc: 0.9431 - val_loss: 0.1834 - val_acc: 0.9300\n",
      "Epoch 7/10\n",
      "64/64 [==============================] - 162s 3s/step - loss: 0.1437 - acc: 0.9533 - val_loss: 0.1831 - val_acc: 0.9400\n",
      "Epoch 8/10\n",
      "64/64 [==============================] - 159s 2s/step - loss: 0.1454 - acc: 0.9531 - val_loss: 0.1577 - val_acc: 0.9400\n",
      "Epoch 9/10\n",
      "64/64 [==============================] - 159s 2s/step - loss: 0.1347 - acc: 0.9551 - val_loss: 0.1762 - val_acc: 0.9600\n",
      "Epoch 10/10\n",
      "64/64 [==============================] - 161s 3s/step - loss: 0.1255 - acc: 0.9533 - val_loss: 0.2142 - val_acc: 0.9600\n"
     ]
    }
   ],
   "source": [
    "# samples_per_epoch = len(images_paths)\n",
    "nb_val_samples = 10\n",
    "nb_max_epoch = 10\n",
    "steps_per_epoch = 128\n",
    "\n",
    "hist = model.fit_generator(\n",
    "    generator=train_gen, \n",
    "    steps_per_epoch=steps_per_epoch,\n",
    "    epochs=nb_max_epoch,\n",
    "    validation_data=test_gen,\n",
    "    use_multiprocessing=True)\n",
    "    "
   ]
  },
  {
   "cell_type": "code",
   "execution_count": 176,
   "metadata": {},
   "outputs": [
    {
     "data": {
      "image/png": "[encoded data removed]",
      "text/plain": [
       "<matplotlib.figure.Figure at 0x11df06898>"
      ]
     },
     "metadata": {},
     "output_type": "display_data"
    }
   ],
   "source": [
    "acc = hist.history['acc']\n",
    "loss = hist.history['loss']\n",
    "plt.plot(loss)\n",
    "plt.plot(acc)\n",
    "plt.show();"
   ]
  },
  {
   "cell_type": "code",
   "execution_count": null,
   "metadata": {
    "collapsed": true
   },
   "outputs": [],
   "source": []
  }
 ],
 "metadata": {
  "kernelspec": {
   "display_name": "Python 3",
   "language": "python",
   "name": "python3"
  },
  "language_info": {
   "codemirror_mode": {
    "name": "ipython",
    "version": 3
   },
   "file_extension": ".py",
   "mimetype": "text/x-python",
   "name": "python",
   "nbconvert_exporter": "python",
   "pygments_lexer": "ipython3",
   "version": "3.6.1"
  }
 },
 "nbformat": 4,
 "nbformat_minor": 2
}
