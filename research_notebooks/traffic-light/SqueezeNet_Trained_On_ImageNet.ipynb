{
 "cells": [
  {
   "cell_type": "markdown",
   "metadata": {},
   "source": [
    "SqueezeNet trained on ImageNet https://medium.freecodecamp.org/recognizing-traffic-lights-with-deep-learning-23dae23287cc"
   ]
  },
  {
   "cell_type": "markdown",
   "metadata": {},
   "source": [
    "### Install Dependencies"
   ]
  },
  {
   "cell_type": "code",
   "execution_count": 2,
   "metadata": {},
   "outputs": [
    {
     "name": "stdout",
     "output_type": "stream",
     "text": [
      "Requirement already satisfied: keras_squeezenet in /Users/kmartin/anaconda/lib/python2.7/site-packages\n",
      "Requirement already satisfied: tensorflow in /Users/kmartin/anaconda/lib/python2.7/site-packages (from keras_squeezenet)\n",
      "Requirement already satisfied: h5py in /Users/kmartin/anaconda/lib/python2.7/site-packages (from keras_squeezenet)\n",
      "Requirement already satisfied: pyyaml in /Users/kmartin/anaconda/lib/python2.7/site-packages (from keras_squeezenet)\n",
      "Requirement already satisfied: six>=1.9.0 in /Users/kmartin/anaconda/lib/python2.7/site-packages (from keras_squeezenet)\n",
      "Requirement already satisfied: scipy>=0.14 in /Users/kmartin/anaconda/lib/python2.7/site-packages (from keras_squeezenet)\n",
      "Requirement already satisfied: keras in /Users/kmartin/anaconda/lib/python2.7/site-packages (from keras_squeezenet)\n",
      "Requirement already satisfied: numpy>=1.9.1 in /Users/kmartin/anaconda/lib/python2.7/site-packages (from keras_squeezenet)\n",
      "Requirement already satisfied: mock>=2.0.0 in /Users/kmartin/anaconda/lib/python2.7/site-packages (from tensorflow->keras_squeezenet)\n",
      "Requirement already satisfied: tensorflow-tensorboard<0.5.0,>=0.4.0rc1 in /Users/kmartin/anaconda/lib/python2.7/site-packages (from tensorflow->keras_squeezenet)\n",
      "Requirement already satisfied: enum34>=1.1.6 in /Users/kmartin/anaconda/lib/python2.7/site-packages (from tensorflow->keras_squeezenet)\n",
      "Requirement already satisfied: protobuf>=3.3.0 in /Users/kmartin/anaconda/lib/python2.7/site-packages (from tensorflow->keras_squeezenet)\n",
      "Requirement already satisfied: backports.weakref>=1.0rc1 in /Users/kmartin/anaconda/lib/python2.7/site-packages (from tensorflow->keras_squeezenet)\n",
      "Requirement already satisfied: wheel in /Users/kmartin/anaconda/lib/python2.7/site-packages (from tensorflow->keras_squeezenet)\n",
      "Requirement already satisfied: funcsigs>=1; python_version < \"3.3\" in /Users/kmartin/anaconda/lib/python2.7/site-packages (from mock>=2.0.0->tensorflow->keras_squeezenet)\n",
      "Requirement already satisfied: pbr>=0.11 in /Users/kmartin/anaconda/lib/python2.7/site-packages (from mock>=2.0.0->tensorflow->keras_squeezenet)\n",
      "Requirement already satisfied: futures>=3.1.1; python_version < \"3.2\" in /Users/kmartin/anaconda/lib/python2.7/site-packages (from tensorflow-tensorboard<0.5.0,>=0.4.0rc1->tensorflow->keras_squeezenet)\n",
      "Requirement already satisfied: markdown>=2.6.8 in /Users/kmartin/anaconda/lib/python2.7/site-packages (from tensorflow-tensorboard<0.5.0,>=0.4.0rc1->tensorflow->keras_squeezenet)\n",
      "Requirement already satisfied: html5lib==0.9999999 in /Users/kmartin/anaconda/lib/python2.7/site-packages (from tensorflow-tensorboard<0.5.0,>=0.4.0rc1->tensorflow->keras_squeezenet)\n",
      "Requirement already satisfied: bleach==1.5.0 in /Users/kmartin/anaconda/lib/python2.7/site-packages (from tensorflow-tensorboard<0.5.0,>=0.4.0rc1->tensorflow->keras_squeezenet)\n",
      "Requirement already satisfied: werkzeug>=0.11.10 in /Users/kmartin/anaconda/lib/python2.7/site-packages (from tensorflow-tensorboard<0.5.0,>=0.4.0rc1->tensorflow->keras_squeezenet)\n",
      "Requirement already satisfied: setuptools in /Users/kmartin/anaconda/lib/python2.7/site-packages/setuptools-27.2.0-py2.7.egg (from protobuf>=3.3.0->tensorflow->keras_squeezenet)\n"
     ]
    }
   ],
   "source": [
    "!pip install keras_squeezenet"
   ]
  },
  {
   "cell_type": "code",
   "execution_count": 1,
   "metadata": {},
   "outputs": [
    {
     "ename": "ImportError",
     "evalue": "No module named 'keras_squeezenet'",
     "output_type": "error",
     "traceback": [
      "\u001b[0;31m---------------------------------------------------------------------------\u001b[0m",
      "\u001b[0;31mImportError\u001b[0m                               Traceback (most recent call last)",
      "\u001b[0;32m<ipython-input-1-90bea98913b0>\u001b[0m in \u001b[0;36m<module>\u001b[0;34m()\u001b[0m\n\u001b[1;32m      1\u001b[0m \u001b[0;32mimport\u001b[0m \u001b[0mnumpy\u001b[0m \u001b[0;32mas\u001b[0m \u001b[0mnp\u001b[0m\u001b[0;34m\u001b[0m\u001b[0m\n\u001b[0;32m----> 2\u001b[0;31m \u001b[0;32mfrom\u001b[0m \u001b[0mkeras_squeezenet\u001b[0m \u001b[0;32mimport\u001b[0m \u001b[0mSqueezeNet\u001b[0m\u001b[0;34m\u001b[0m\u001b[0m\n\u001b[0m\u001b[1;32m      3\u001b[0m \u001b[0;32mfrom\u001b[0m \u001b[0mkeras\u001b[0m\u001b[0;34m.\u001b[0m\u001b[0mapplications\u001b[0m\u001b[0;34m.\u001b[0m\u001b[0mimagenet_utils\u001b[0m \u001b[0;32mimport\u001b[0m \u001b[0mpreprocess_input\u001b[0m\u001b[0;34m,\u001b[0m \u001b[0mdecode_predictions\u001b[0m\u001b[0;34m\u001b[0m\u001b[0m\n\u001b[1;32m      4\u001b[0m \u001b[0;32mfrom\u001b[0m \u001b[0mkeras\u001b[0m\u001b[0;34m.\u001b[0m\u001b[0mpreprocessing\u001b[0m \u001b[0;32mimport\u001b[0m \u001b[0mimage\u001b[0m\u001b[0;34m\u001b[0m\u001b[0m\n\u001b[1;32m      5\u001b[0m \u001b[0;34m\u001b[0m\u001b[0m\n",
      "\u001b[0;31mImportError\u001b[0m: No module named 'keras_squeezenet'"
     ]
    }
   ],
   "source": [
    "import numpy as np\n",
    "from keras_squeezenet import SqueezeNet\n",
    "from keras.applications.imagenet_utils import preprocess_input, decode_predictions\n",
    "from keras.preprocessing import image\n",
    "\n",
    "model = SqueezeNet()\n",
    "\n",
    "img = image.load_img('../images/cat.jpeg', target_size=(227, 227))\n",
    "x = image.img_to_array(img)\n",
    "x = np.expand_dims(x, axis=0)\n",
    "x = preprocess_input(x)\n",
    "\n",
    "preds = model.predict(x)\n",
    "print('Predicted:', decode_predictions(preds))"
   ]
  },
  {
   "cell_type": "code",
   "execution_count": null,
   "metadata": {
    "collapsed": true
   },
   "outputs": [],
   "source": []
  }
 ],
 "metadata": {
  "anaconda-cloud": {},
  "kernelspec": {
   "display_name": "Python [conda env:carnd-term1]",
   "language": "python",
   "name": "conda-env-carnd-term1-py"
  },
  "language_info": {
   "codemirror_mode": {
    "name": "ipython",
    "version": 3
   },
   "file_extension": ".py",
   "mimetype": "text/x-python",
   "name": "python",
   "nbconvert_exporter": "python",
   "pygments_lexer": "ipython3",
   "version": "3.5.2"
  }
 },
 "nbformat": 4,
 "nbformat_minor": 1
}
